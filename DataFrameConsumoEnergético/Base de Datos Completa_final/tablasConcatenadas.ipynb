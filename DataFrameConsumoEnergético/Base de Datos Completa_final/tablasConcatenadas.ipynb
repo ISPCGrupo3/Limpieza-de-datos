{
 "cells": [
  {
   "cell_type": "code",
   "execution_count": 2,
   "metadata": {},
   "outputs": [],
   "source": [
    "import pandas as pd\n",
    "import glob\n",
    "import os"
   ]
  },
  {
   "cell_type": "code",
   "execution_count": 4,
   "metadata": {},
   "outputs": [
    {
     "data": {
      "text/html": [
       "<div>\n",
       "<style scoped>\n",
       "    .dataframe tbody tr th:only-of-type {\n",
       "        vertical-align: middle;\n",
       "    }\n",
       "\n",
       "    .dataframe tbody tr th {\n",
       "        vertical-align: top;\n",
       "    }\n",
       "\n",
       "    .dataframe thead th {\n",
       "        text-align: right;\n",
       "    }\n",
       "</style>\n",
       "<table border=\"1\" class=\"dataframe\">\n",
       "  <thead>\n",
       "    <tr style=\"text-align: right;\">\n",
       "      <th></th>\n",
       "      <th>Timestamp</th>\n",
       "      <th>COCS.COCS-MT-01\\nReal Power\\n(kW)</th>\n",
       "      <th>COCS.COCS-TR-01\\nReal Power\\n(kW)</th>\n",
       "      <th>COCS.COCS-TR-02\\nReal Power\\n(kW)</th>\n",
       "      <th>COCS.COCS-TR-03\\nReal Power\\n(kW)</th>\n",
       "      <th>COCS.COCS-TR-04\\nReal Power\\n(kW)</th>\n",
       "      <th>tablas_num</th>\n",
       "    </tr>\n",
       "  </thead>\n",
       "  <tbody>\n",
       "    <tr>\n",
       "      <th>37996</th>\n",
       "      <td>30/4/2022 23:00:00</td>\n",
       "      <td>561.0</td>\n",
       "      <td>41.361668</td>\n",
       "      <td>45.970928</td>\n",
       "      <td>136.364151</td>\n",
       "      <td>190.365860</td>\n",
       "      <td>tabla_2204.xlsx</td>\n",
       "    </tr>\n",
       "    <tr>\n",
       "      <th>37997</th>\n",
       "      <td>30/4/2022 23:15:00</td>\n",
       "      <td>572.0</td>\n",
       "      <td>41.342281</td>\n",
       "      <td>41.040997</td>\n",
       "      <td>135.091873</td>\n",
       "      <td>187.250534</td>\n",
       "      <td>tabla_2204.xlsx</td>\n",
       "    </tr>\n",
       "    <tr>\n",
       "      <th>37998</th>\n",
       "      <td>30/4/2022 23:30:00</td>\n",
       "      <td>482.0</td>\n",
       "      <td>7.884779</td>\n",
       "      <td>46.314167</td>\n",
       "      <td>122.927292</td>\n",
       "      <td>153.835236</td>\n",
       "      <td>tabla_2204.xlsx</td>\n",
       "    </tr>\n",
       "    <tr>\n",
       "      <th>37999</th>\n",
       "      <td>30/4/2022 23:45:00</td>\n",
       "      <td>455.0</td>\n",
       "      <td>7.463580</td>\n",
       "      <td>32.700390</td>\n",
       "      <td>116.371727</td>\n",
       "      <td>147.870026</td>\n",
       "      <td>tabla_2204.xlsx</td>\n",
       "    </tr>\n",
       "    <tr>\n",
       "      <th>38000</th>\n",
       "      <td>1/5/2022 00:00:00</td>\n",
       "      <td>359.0</td>\n",
       "      <td>4.567657</td>\n",
       "      <td>32.796932</td>\n",
       "      <td>103.048500</td>\n",
       "      <td>97.784195</td>\n",
       "      <td>tabla_2204.xlsx</td>\n",
       "    </tr>\n",
       "  </tbody>\n",
       "</table>\n",
       "</div>"
      ],
      "text/plain": [
       "                Timestamp  COCS.COCS-MT-01\\nReal Power\\n(kW)  \\\n",
       "37996  30/4/2022 23:00:00                              561.0   \n",
       "37997  30/4/2022 23:15:00                              572.0   \n",
       "37998  30/4/2022 23:30:00                              482.0   \n",
       "37999  30/4/2022 23:45:00                              455.0   \n",
       "38000   1/5/2022 00:00:00                              359.0   \n",
       "\n",
       "       COCS.COCS-TR-01\\nReal Power\\n(kW)  COCS.COCS-TR-02\\nReal Power\\n(kW)  \\\n",
       "37996                          41.361668                          45.970928   \n",
       "37997                          41.342281                          41.040997   \n",
       "37998                           7.884779                          46.314167   \n",
       "37999                           7.463580                          32.700390   \n",
       "38000                           4.567657                          32.796932   \n",
       "\n",
       "       COCS.COCS-TR-03\\nReal Power\\n(kW)  COCS.COCS-TR-04\\nReal Power\\n(kW)  \\\n",
       "37996                         136.364151                         190.365860   \n",
       "37997                         135.091873                         187.250534   \n",
       "37998                         122.927292                         153.835236   \n",
       "37999                         116.371727                         147.870026   \n",
       "38000                         103.048500                          97.784195   \n",
       "\n",
       "            tablas_num  \n",
       "37996  tabla_2204.xlsx  \n",
       "37997  tabla_2204.xlsx  \n",
       "37998  tabla_2204.xlsx  \n",
       "37999  tabla_2204.xlsx  \n",
       "38000  tabla_2204.xlsx  "
      ]
     },
     "execution_count": 4,
     "metadata": {},
     "output_type": "execute_result"
    }
   ],
   "source": [
    "archivos = glob.glob('tabla_*.xlsx')\n",
    "len(archivos)\n",
    "\n",
    "lista_archivos = []\n",
    "for f in archivos:\n",
    "    datos = pd.read_excel(f)\n",
    "    nombre = os.path.basename(f)\n",
    "    datos['tablas_num'] = nombre\n",
    "    lista_archivos.append(datos)\n",
    "\n",
    "df_consumoEnergia = pd.concat(lista_archivos, ignore_index=True)\n",
    "\n",
    "df_consumoEnergia.tail()\n"
   ]
  },
  {
   "cell_type": "code",
   "execution_count": 6,
   "metadata": {},
   "outputs": [
    {
     "name": "stdout",
     "output_type": "stream",
     "text": [
      "Cantidad de filas y columnas:  (38001, 7)\n",
      "Nombre de Columnas:  Index(['Timestamp', 'COCS.COCS-MT-01\\nReal Power\\n(kW)',\n",
      "       'COCS.COCS-TR-01\\nReal Power\\n(kW)',\n",
      "       'COCS.COCS-TR-02\\nReal Power\\n(kW)',\n",
      "       'COCS.COCS-TR-03\\nReal Power\\n(kW)',\n",
      "       'COCS.COCS-TR-04\\nReal Power\\n(kW)', 'tablas_num'],\n",
      "      dtype='object')\n"
     ]
    }
   ],
   "source": [
    "print('Cantidad de filas y columnas: ', df_consumoEnergia.shape)\n",
    "print('Nombre de Columnas: ', df_consumoEnergia.columns)\n"
   ]
  },
  {
   "cell_type": "code",
   "execution_count": 7,
   "metadata": {},
   "outputs": [],
   "source": [
    "df_consumoEnergia.to_excel('tablasConcatenadas.xlsx', index=False)\n"
   ]
  }
 ],
 "metadata": {
  "kernelspec": {
   "display_name": "Python 3.9.13 64-bit (windows store)",
   "language": "python",
   "name": "python3"
  },
  "language_info": {
   "codemirror_mode": {
    "name": "ipython",
    "version": 3
   },
   "file_extension": ".py",
   "mimetype": "text/x-python",
   "name": "python",
   "nbconvert_exporter": "python",
   "pygments_lexer": "ipython3",
   "version": "3.9.13"
  },
  "orig_nbformat": 4,
  "vscode": {
   "interpreter": {
    "hash": "94cadf68cf52c515caf6c8736dff7d4992718ad31c715dbaf894b51d692c8531"
   }
  }
 },
 "nbformat": 4,
 "nbformat_minor": 2
}
