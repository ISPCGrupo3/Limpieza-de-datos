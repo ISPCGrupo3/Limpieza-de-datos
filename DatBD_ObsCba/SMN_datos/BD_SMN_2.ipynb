{
 "cells": [
  {
   "cell_type": "code",
   "execution_count": 56,
   "metadata": {},
   "outputs": [],
   "source": [
    "import pandas as pd\n",
    "import numpy as np\n",
    "from matplotlib import pyplot as plt\n",
    "from datetime import datetime\n",
    "import csv\n",
    "from IPython.display import display\n",
    "\n"
   ]
  },
  {
   "cell_type": "code",
   "execution_count": 57,
   "metadata": {},
   "outputs": [
    {
     "data": {
      "text/plain": [
       "'HORA_LOCAL'"
      ]
     },
     "execution_count": 57,
     "metadata": {},
     "output_type": "execute_result"
    }
   ],
   "source": [
    "with open(\"./190945.csv\", newline='') as File:\n",
    "    reader = csv.reader(File, delimiter=';')\n",
    "    header = next(reader)\n",
    "    obs_cba = []\n",
    "    for row in reader:\n",
    "        if row[0] == '10100':\n",
    "            continue\n",
    "        else:\n",
    "            \"FECHA HORA_LOCAL\"\n",
    "            diahora = row[1] + ' ' + row[2]\n",
    "            fecha = datetime.strptime(diahora, '%d/%m/%Y %H')\n",
    "            row.pop(2)\n",
    "            row[1] = fecha\n",
    "            obs_cba.append(row)\n",
    "header.pop(2)\n"
   ]
  },
  {
   "cell_type": "code",
   "execution_count": 60,
   "metadata": {},
   "outputs": [],
   "source": [
    "datossmn = pd.DataFrame(obs_cba, columns=header)\n",
    "datossmn.iloc[2163:11642 , : ]\n",
    "smn_abril_21_mayo_22 = datossmn.iloc[2163:11642, :]\n"
   ]
  },
  {
   "cell_type": "code",
   "execution_count": 61,
   "metadata": {},
   "outputs": [
    {
     "data": {
      "text/html": [
       "<div>\n",
       "<style scoped>\n",
       "    .dataframe tbody tr th:only-of-type {\n",
       "        vertical-align: middle;\n",
       "    }\n",
       "\n",
       "    .dataframe tbody tr th {\n",
       "        vertical-align: top;\n",
       "    }\n",
       "\n",
       "    .dataframe thead th {\n",
       "        text-align: right;\n",
       "    }\n",
       "</style>\n",
       "<table border=\"1\" class=\"dataframe\">\n",
       "  <thead>\n",
       "    <tr style=\"text-align: right;\">\n",
       "      <th></th>\n",
       "      <th>ESTACION</th>\n",
       "      <th>FECHA</th>\n",
       "      <th>TEMPERATURA (C)</th>\n",
       "      <th>HUMEDAD RELATIVA (%)</th>\n",
       "      <th>PRESION ESTACION (hPa)</th>\n",
       "    </tr>\n",
       "  </thead>\n",
       "  <tbody>\n",
       "    <tr>\n",
       "      <th>11637</th>\n",
       "      <td>10105</td>\n",
       "      <td>2022-04-30 20:00:00</td>\n",
       "      <td>13.6</td>\n",
       "      <td>55</td>\n",
       "      <td>967.2</td>\n",
       "    </tr>\n",
       "    <tr>\n",
       "      <th>11638</th>\n",
       "      <td>10105</td>\n",
       "      <td>2022-04-30 21:00:00</td>\n",
       "      <td>12.2</td>\n",
       "      <td>63</td>\n",
       "      <td>967.7</td>\n",
       "    </tr>\n",
       "    <tr>\n",
       "      <th>11639</th>\n",
       "      <td>10105</td>\n",
       "      <td>2022-04-30 22:00:00</td>\n",
       "      <td>11.1</td>\n",
       "      <td>64</td>\n",
       "      <td>968.1</td>\n",
       "    </tr>\n",
       "    <tr>\n",
       "      <th>11640</th>\n",
       "      <td>10105</td>\n",
       "      <td>2022-04-30 23:00:00</td>\n",
       "      <td>10.2</td>\n",
       "      <td>69</td>\n",
       "      <td>968.2</td>\n",
       "    </tr>\n",
       "    <tr>\n",
       "      <th>11641</th>\n",
       "      <td>10105</td>\n",
       "      <td>2022-05-01 00:00:00</td>\n",
       "      <td>9.2</td>\n",
       "      <td>71</td>\n",
       "      <td>968.6</td>\n",
       "    </tr>\n",
       "  </tbody>\n",
       "</table>\n",
       "</div>"
      ],
      "text/plain": [
       "      ESTACION               FECHA TEMPERATURA (C) HUMEDAD RELATIVA (%)  \\\n",
       "11637    10105 2022-04-30 20:00:00            13.6                   55   \n",
       "11638    10105 2022-04-30 21:00:00            12.2                   63   \n",
       "11639    10105 2022-04-30 22:00:00            11.1                   64   \n",
       "11640    10105 2022-04-30 23:00:00            10.2                   69   \n",
       "11641    10105 2022-05-01 00:00:00             9.2                   71   \n",
       "\n",
       "      PRESION ESTACION (hPa)  \n",
       "11637                  967.2  \n",
       "11638                  967.7  \n",
       "11639                  968.1  \n",
       "11640                  968.2  \n",
       "11641                  968.6  "
      ]
     },
     "execution_count": 61,
     "metadata": {},
     "output_type": "execute_result"
    }
   ],
   "source": [
    "smn_abril_21_mayo_22.tail()\n"
   ]
  },
  {
   "cell_type": "code",
   "execution_count": 78,
   "metadata": {},
   "outputs": [
    {
     "data": {
      "text/html": [
       "<div>\n",
       "<style scoped>\n",
       "    .dataframe tbody tr th:only-of-type {\n",
       "        vertical-align: middle;\n",
       "    }\n",
       "\n",
       "    .dataframe tbody tr th {\n",
       "        vertical-align: top;\n",
       "    }\n",
       "\n",
       "    .dataframe thead th {\n",
       "        text-align: right;\n",
       "    }\n",
       "</style>\n",
       "<table border=\"1\" class=\"dataframe\">\n",
       "  <thead>\n",
       "    <tr style=\"text-align: right;\">\n",
       "      <th></th>\n",
       "      <th>ESTACION</th>\n",
       "      <th>TEMPERATURA (C)</th>\n",
       "      <th>HUMEDAD RELATIVA (%)</th>\n",
       "      <th>PRESION ESTACION (hPa)</th>\n",
       "    </tr>\n",
       "    <tr>\n",
       "      <th>FECHA</th>\n",
       "      <th></th>\n",
       "      <th></th>\n",
       "      <th></th>\n",
       "      <th></th>\n",
       "    </tr>\n",
       "  </thead>\n",
       "  <tbody>\n",
       "    <tr>\n",
       "      <th>2021-04-01 00:00:00</th>\n",
       "      <td>10105</td>\n",
       "      <td>16.7</td>\n",
       "      <td>76</td>\n",
       "      <td>967</td>\n",
       "    </tr>\n",
       "    <tr>\n",
       "      <th>2021-04-01 01:00:00</th>\n",
       "      <td>10105</td>\n",
       "      <td>16.4</td>\n",
       "      <td>77</td>\n",
       "      <td>966.6</td>\n",
       "    </tr>\n",
       "    <tr>\n",
       "      <th>2021-04-01 02:00:00</th>\n",
       "      <td>10105</td>\n",
       "      <td>16.5</td>\n",
       "      <td>76</td>\n",
       "      <td>966.2</td>\n",
       "    </tr>\n",
       "    <tr>\n",
       "      <th>2021-04-01 03:00:00</th>\n",
       "      <td>10105</td>\n",
       "      <td>15.8</td>\n",
       "      <td>78</td>\n",
       "      <td>966.4</td>\n",
       "    </tr>\n",
       "    <tr>\n",
       "      <th>2021-04-01 04:00:00</th>\n",
       "      <td>10105</td>\n",
       "      <td>16</td>\n",
       "      <td>79</td>\n",
       "      <td>966.1</td>\n",
       "    </tr>\n",
       "    <tr>\n",
       "      <th>...</th>\n",
       "      <td>...</td>\n",
       "      <td>...</td>\n",
       "      <td>...</td>\n",
       "      <td>...</td>\n",
       "    </tr>\n",
       "    <tr>\n",
       "      <th>2022-04-30 20:00:00</th>\n",
       "      <td>10105</td>\n",
       "      <td>13.6</td>\n",
       "      <td>55</td>\n",
       "      <td>967.2</td>\n",
       "    </tr>\n",
       "    <tr>\n",
       "      <th>2022-04-30 21:00:00</th>\n",
       "      <td>10105</td>\n",
       "      <td>12.2</td>\n",
       "      <td>63</td>\n",
       "      <td>967.7</td>\n",
       "    </tr>\n",
       "    <tr>\n",
       "      <th>2022-04-30 22:00:00</th>\n",
       "      <td>10105</td>\n",
       "      <td>11.1</td>\n",
       "      <td>64</td>\n",
       "      <td>968.1</td>\n",
       "    </tr>\n",
       "    <tr>\n",
       "      <th>2022-04-30 23:00:00</th>\n",
       "      <td>10105</td>\n",
       "      <td>10.2</td>\n",
       "      <td>69</td>\n",
       "      <td>968.2</td>\n",
       "    </tr>\n",
       "    <tr>\n",
       "      <th>2022-05-01 00:00:00</th>\n",
       "      <td>10105</td>\n",
       "      <td>9.2</td>\n",
       "      <td>71</td>\n",
       "      <td>968.6</td>\n",
       "    </tr>\n",
       "  </tbody>\n",
       "</table>\n",
       "<p>9479 rows × 4 columns</p>\n",
       "</div>"
      ],
      "text/plain": [
       "                    ESTACION TEMPERATURA (C) HUMEDAD RELATIVA (%)  \\\n",
       "FECHA                                                               \n",
       "2021-04-01 00:00:00    10105            16.7                   76   \n",
       "2021-04-01 01:00:00    10105            16.4                   77   \n",
       "2021-04-01 02:00:00    10105            16.5                   76   \n",
       "2021-04-01 03:00:00    10105            15.8                   78   \n",
       "2021-04-01 04:00:00    10105              16                   79   \n",
       "...                      ...             ...                  ...   \n",
       "2022-04-30 20:00:00    10105            13.6                   55   \n",
       "2022-04-30 21:00:00    10105            12.2                   63   \n",
       "2022-04-30 22:00:00    10105            11.1                   64   \n",
       "2022-04-30 23:00:00    10105            10.2                   69   \n",
       "2022-05-01 00:00:00    10105             9.2                   71   \n",
       "\n",
       "                    PRESION ESTACION (hPa)  \n",
       "FECHA                                       \n",
       "2021-04-01 00:00:00                    967  \n",
       "2021-04-01 01:00:00                  966.6  \n",
       "2021-04-01 02:00:00                  966.2  \n",
       "2021-04-01 03:00:00                  966.4  \n",
       "2021-04-01 04:00:00                  966.1  \n",
       "...                                    ...  \n",
       "2022-04-30 20:00:00                  967.2  \n",
       "2022-04-30 21:00:00                  967.7  \n",
       "2022-04-30 22:00:00                  968.1  \n",
       "2022-04-30 23:00:00                  968.2  \n",
       "2022-05-01 00:00:00                  968.6  \n",
       "\n",
       "[9479 rows x 4 columns]"
      ]
     },
     "execution_count": 78,
     "metadata": {},
     "output_type": "execute_result"
    }
   ],
   "source": [
    "data_fecha = datossmn.set_index('FECHA')\n",
    "smn_abril_21_mayo_22 =  data_fecha.loc['2021-04-01 00:00:00':'2022-05-01 00:00:00']\n",
    "\n",
    "smn_abril_21_mayo_22"
   ]
  },
  {
   "cell_type": "code",
   "execution_count": 80,
   "metadata": {},
   "outputs": [
    {
     "data": {
      "text/html": [
       "<div>\n",
       "<style scoped>\n",
       "    .dataframe tbody tr th:only-of-type {\n",
       "        vertical-align: middle;\n",
       "    }\n",
       "\n",
       "    .dataframe tbody tr th {\n",
       "        vertical-align: top;\n",
       "    }\n",
       "\n",
       "    .dataframe thead th {\n",
       "        text-align: right;\n",
       "    }\n",
       "</style>\n",
       "<table border=\"1\" class=\"dataframe\">\n",
       "  <thead>\n",
       "    <tr style=\"text-align: right;\">\n",
       "      <th></th>\n",
       "      <th>ESTACION</th>\n",
       "      <th>TEMPERATURA (C)</th>\n",
       "      <th>HUMEDAD RELATIVA (%)</th>\n",
       "      <th>PRESION ESTACION (hPa)</th>\n",
       "    </tr>\n",
       "    <tr>\n",
       "      <th>FECHA</th>\n",
       "      <th></th>\n",
       "      <th></th>\n",
       "      <th></th>\n",
       "      <th></th>\n",
       "    </tr>\n",
       "  </thead>\n",
       "  <tbody>\n",
       "    <tr>\n",
       "      <th>2021-12-07 13:00:00</th>\n",
       "      <td>10105</td>\n",
       "      <td>30.8</td>\n",
       "      <td>38</td>\n",
       "      <td>966.8</td>\n",
       "    </tr>\n",
       "    <tr>\n",
       "      <th>2021-04-10 08:00:00</th>\n",
       "      <td>10105</td>\n",
       "      <td>18.4</td>\n",
       "      <td>96</td>\n",
       "      <td>959.6</td>\n",
       "    </tr>\n",
       "    <tr>\n",
       "      <th>2022-02-03 21:00:00</th>\n",
       "      <td>10105</td>\n",
       "      <td>26.6</td>\n",
       "      <td>71</td>\n",
       "      <td>957.3</td>\n",
       "    </tr>\n",
       "    <tr>\n",
       "      <th>2021-08-25 08:00:00</th>\n",
       "      <td>10105</td>\n",
       "      <td>3.5</td>\n",
       "      <td>74</td>\n",
       "      <td>964.9</td>\n",
       "    </tr>\n",
       "    <tr>\n",
       "      <th>2022-04-23 19:00:00</th>\n",
       "      <td>10105</td>\n",
       "      <td>24.2</td>\n",
       "      <td>46</td>\n",
       "      <td>955.7</td>\n",
       "    </tr>\n",
       "    <tr>\n",
       "      <th>2021-09-13 15:00:00</th>\n",
       "      <td>10105</td>\n",
       "      <td>28.6</td>\n",
       "      <td>21</td>\n",
       "      <td>958.9</td>\n",
       "    </tr>\n",
       "    <tr>\n",
       "      <th>2022-04-10 15:00:00</th>\n",
       "      <td>10105</td>\n",
       "      <td>27.2</td>\n",
       "      <td>65</td>\n",
       "      <td>956.9</td>\n",
       "    </tr>\n",
       "    <tr>\n",
       "      <th>2021-06-14 06:00:00</th>\n",
       "      <td>10105</td>\n",
       "      <td>13.4</td>\n",
       "      <td>73</td>\n",
       "      <td>967.6</td>\n",
       "    </tr>\n",
       "    <tr>\n",
       "      <th>2021-05-06 17:00:00</th>\n",
       "      <td>10105</td>\n",
       "      <td>19.2</td>\n",
       "      <td>43</td>\n",
       "      <td>974.8</td>\n",
       "    </tr>\n",
       "    <tr>\n",
       "      <th>2021-04-29 12:00:00</th>\n",
       "      <td>10105</td>\n",
       "      <td>22.8</td>\n",
       "      <td>51</td>\n",
       "      <td>972</td>\n",
       "    </tr>\n",
       "  </tbody>\n",
       "</table>\n",
       "</div>"
      ],
      "text/plain": [
       "                    ESTACION TEMPERATURA (C) HUMEDAD RELATIVA (%)  \\\n",
       "FECHA                                                               \n",
       "2021-12-07 13:00:00    10105            30.8                   38   \n",
       "2021-04-10 08:00:00    10105            18.4                   96   \n",
       "2022-02-03 21:00:00    10105            26.6                   71   \n",
       "2021-08-25 08:00:00    10105             3.5                   74   \n",
       "2022-04-23 19:00:00    10105            24.2                   46   \n",
       "2021-09-13 15:00:00    10105            28.6                   21   \n",
       "2022-04-10 15:00:00    10105            27.2                   65   \n",
       "2021-06-14 06:00:00    10105            13.4                   73   \n",
       "2021-05-06 17:00:00    10105            19.2                   43   \n",
       "2021-04-29 12:00:00    10105            22.8                   51   \n",
       "\n",
       "                    PRESION ESTACION (hPa)  \n",
       "FECHA                                       \n",
       "2021-12-07 13:00:00                  966.8  \n",
       "2021-04-10 08:00:00                  959.6  \n",
       "2022-02-03 21:00:00                  957.3  \n",
       "2021-08-25 08:00:00                  964.9  \n",
       "2022-04-23 19:00:00                  955.7  \n",
       "2021-09-13 15:00:00                  958.9  \n",
       "2022-04-10 15:00:00                  956.9  \n",
       "2021-06-14 06:00:00                  967.6  \n",
       "2021-05-06 17:00:00                  974.8  \n",
       "2021-04-29 12:00:00                    972  "
      ]
     },
     "execution_count": 80,
     "metadata": {},
     "output_type": "execute_result"
    }
   ],
   "source": [
    "smn_abril_21_mayo_22.sample(10)"
   ]
  },
  {
   "cell_type": "code",
   "execution_count": 82,
   "metadata": {},
   "outputs": [
    {
     "data": {
      "text/html": [
       "<div>\n",
       "<style scoped>\n",
       "    .dataframe tbody tr th:only-of-type {\n",
       "        vertical-align: middle;\n",
       "    }\n",
       "\n",
       "    .dataframe tbody tr th {\n",
       "        vertical-align: top;\n",
       "    }\n",
       "\n",
       "    .dataframe thead th {\n",
       "        text-align: right;\n",
       "    }\n",
       "</style>\n",
       "<table border=\"1\" class=\"dataframe\">\n",
       "  <thead>\n",
       "    <tr style=\"text-align: right;\">\n",
       "      <th></th>\n",
       "      <th>ESTACION</th>\n",
       "      <th>TEMPERATURA (C)</th>\n",
       "      <th>HUMEDAD RELATIVA (%)</th>\n",
       "      <th>PRESION ESTACION (hPa)</th>\n",
       "    </tr>\n",
       "  </thead>\n",
       "  <tbody>\n",
       "    <tr>\n",
       "      <th>count</th>\n",
       "      <td>9479</td>\n",
       "      <td>9479</td>\n",
       "      <td>9479</td>\n",
       "      <td>9479</td>\n",
       "    </tr>\n",
       "    <tr>\n",
       "      <th>unique</th>\n",
       "      <td>1</td>\n",
       "      <td>407</td>\n",
       "      <td>92</td>\n",
       "      <td>251</td>\n",
       "    </tr>\n",
       "    <tr>\n",
       "      <th>top</th>\n",
       "      <td>10105</td>\n",
       "      <td>15.2</td>\n",
       "      <td>58</td>\n",
       "      <td>963.3</td>\n",
       "    </tr>\n",
       "    <tr>\n",
       "      <th>freq</th>\n",
       "      <td>9479</td>\n",
       "      <td>105</td>\n",
       "      <td>171</td>\n",
       "      <td>126</td>\n",
       "    </tr>\n",
       "  </tbody>\n",
       "</table>\n",
       "</div>"
      ],
      "text/plain": [
       "       ESTACION TEMPERATURA (C) HUMEDAD RELATIVA (%) PRESION ESTACION (hPa)\n",
       "count      9479            9479                 9479                   9479\n",
       "unique        1             407                   92                    251\n",
       "top       10105            15.2                   58                  963.3\n",
       "freq       9479             105                  171                    126"
      ]
     },
     "execution_count": 82,
     "metadata": {},
     "output_type": "execute_result"
    }
   ],
   "source": [
    "smn_abril_21_mayo_22.describe()"
   ]
  },
  {
   "cell_type": "code",
   "execution_count": 85,
   "metadata": {},
   "outputs": [
    {
     "data": {
      "text/plain": [
       "<AxesSubplot:xlabel='HUMEDAD RELATIVA (%)', ylabel='TEMPERATURA (C)'>"
      ]
     },
     "execution_count": 85,
     "metadata": {},
     "output_type": "execute_result"
    },
    {
     "data": {
      "image/png": "[encoded data removed]",
      "text/plain": [
       "<Figure size 432x288 with 1 Axes>"
      ]
     },
     "metadata": {
      "needs_background": "light"
     },
     "output_type": "display_data"
    }
   ],
   "source": [
    "smn_abril_21_mayo_22.plot.scatter(y='TEMPERATURA (C)', x='HUMEDAD RELATIVA (%)')"
   ]
  },
  {
   "cell_type": "code",
   "execution_count": 86,
   "metadata": {},
   "outputs": [
    {
     "data": {
      "text/plain": [
       "<AxesSubplot:xlabel='HUMEDAD RELATIVA (%)', ylabel='TEMPERATURA (C)'>"
      ]
     },
     "execution_count": 86,
     "metadata": {},
     "output_type": "execute_result"
    },
    {
     "data": {
      "image/png": "[encoded data removed]",
      "text/plain": [
       "<Figure size 432x288 with 1 Axes>"
      ]
     },
     "metadata": {
      "needs_background": "light"
     },
     "output_type": "display_data"
    }
   ],
   "source": [
    "data_fecha = datossmn.set_index('FECHA')\n",
    "df_prueba1 = data_fecha.loc['2021-04-01 00:00:00':'2021-05-01 00:00:00']\n",
    "df_prueba1.plot.scatter(y='TEMPERATURA (C)', x='HUMEDAD RELATIVA (%)')\n"
   ]
  }
 ],
 "metadata": {
  "kernelspec": {
   "display_name": "Python 3.9.13 64-bit (windows store)",
   "language": "python",
   "name": "python3"
  },
  "language_info": {
   "codemirror_mode": {
    "name": "ipython",
    "version": 3
   },
   "file_extension": ".py",
   "mimetype": "text/x-python",
   "name": "python",
   "nbconvert_exporter": "python",
   "pygments_lexer": "ipython3",
   "version": "3.9.13"
  },
  "orig_nbformat": 4,
  "vscode": {
   "interpreter": {
    "hash": "94cadf68cf52c515caf6c8736dff7d4992718ad31c715dbaf894b51d692c8531"
   }
  }
 },
 "nbformat": 4,
 "nbformat_minor": 2
}
