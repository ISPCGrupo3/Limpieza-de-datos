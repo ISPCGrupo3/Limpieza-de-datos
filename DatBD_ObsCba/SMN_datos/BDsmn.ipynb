{
 "cells": [
  {
   "cell_type": "code",
   "execution_count": 1,
   "metadata": {},
   "outputs": [],
   "source": [
    "import pandas as pd\n",
    "import numpy as np\n",
    "from matplotlib import pyplot as plt\n",
    "from datetime import datetime\n",
    "import csv\n"
   ]
  },
  {
   "cell_type": "code",
   "execution_count": 2,
   "metadata": {},
   "outputs": [
    {
     "data": {
      "text/plain": [
       "'HORA_LOCAL'"
      ]
     },
     "execution_count": 2,
     "metadata": {},
     "output_type": "execute_result"
    }
   ],
   "source": [
    "with open(\"./190945.csv\", newline='') as File:\n",
    "    reader = csv.reader(File,delimiter=';')\n",
    "    header = next(reader)\n",
    "    obs_cba=[]\n",
    "    for row in reader:\n",
    "        if row[0] == '10100':\n",
    "            continue \n",
    "        else:\n",
    "            \"FECHA HORA_LOCAL\"\n",
    "            diahora = row[1] + ' ' + row[2]\n",
    "            fecha = datetime.strptime(diahora, '%d/%m/%Y %H')\n",
    "            row.pop(2)\n",
    "            row[1] = fecha\n",
    "            obs_cba.append(row)\n",
    "header.pop(2)\n"
   ]
  },
  {
   "cell_type": "code",
   "execution_count": 3,
   "metadata": {},
   "outputs": [],
   "source": [
    "datossmn= pd.DataFrame(obs_cba, columns=header)\n",
    "#datossmn"
   ]
  },
  {
   "cell_type": "code",
   "execution_count": 9,
   "metadata": {},
   "outputs": [
    {
     "data": {
      "text/html": [
       "<div>\n",
       "<style scoped>\n",
       "    .dataframe tbody tr th:only-of-type {\n",
       "        vertical-align: middle;\n",
       "    }\n",
       "\n",
       "    .dataframe tbody tr th {\n",
       "        vertical-align: top;\n",
       "    }\n",
       "\n",
       "    .dataframe thead th {\n",
       "        text-align: right;\n",
       "    }\n",
       "</style>\n",
       "<table border=\"1\" class=\"dataframe\">\n",
       "  <thead>\n",
       "    <tr style=\"text-align: right;\">\n",
       "      <th></th>\n",
       "      <th>ESTACION</th>\n",
       "      <th>TEMPERATURA (C)</th>\n",
       "      <th>HUMEDAD RELATIVA (%)</th>\n",
       "      <th>PRESION ESTACION (hPa)</th>\n",
       "    </tr>\n",
       "    <tr>\n",
       "      <th>FECHA</th>\n",
       "      <th></th>\n",
       "      <th></th>\n",
       "      <th></th>\n",
       "      <th></th>\n",
       "    </tr>\n",
       "  </thead>\n",
       "  <tbody>\n",
       "    <tr>\n",
       "      <th>2021-04-01 00:00:00</th>\n",
       "      <td>10105</td>\n",
       "      <td>16.7</td>\n",
       "      <td>76</td>\n",
       "      <td>967</td>\n",
       "    </tr>\n",
       "    <tr>\n",
       "      <th>2021-04-01 01:00:00</th>\n",
       "      <td>10105</td>\n",
       "      <td>16.4</td>\n",
       "      <td>77</td>\n",
       "      <td>966.6</td>\n",
       "    </tr>\n",
       "    <tr>\n",
       "      <th>2021-04-01 02:00:00</th>\n",
       "      <td>10105</td>\n",
       "      <td>16.5</td>\n",
       "      <td>76</td>\n",
       "      <td>966.2</td>\n",
       "    </tr>\n",
       "    <tr>\n",
       "      <th>2021-04-01 03:00:00</th>\n",
       "      <td>10105</td>\n",
       "      <td>15.8</td>\n",
       "      <td>78</td>\n",
       "      <td>966.4</td>\n",
       "    </tr>\n",
       "    <tr>\n",
       "      <th>2021-04-01 04:00:00</th>\n",
       "      <td>10105</td>\n",
       "      <td>16</td>\n",
       "      <td>79</td>\n",
       "      <td>966.1</td>\n",
       "    </tr>\n",
       "    <tr>\n",
       "      <th>...</th>\n",
       "      <td>...</td>\n",
       "      <td>...</td>\n",
       "      <td>...</td>\n",
       "      <td>...</td>\n",
       "    </tr>\n",
       "    <tr>\n",
       "      <th>2022-04-30 20:00:00</th>\n",
       "      <td>10105</td>\n",
       "      <td>13.6</td>\n",
       "      <td>55</td>\n",
       "      <td>967.2</td>\n",
       "    </tr>\n",
       "    <tr>\n",
       "      <th>2022-04-30 21:00:00</th>\n",
       "      <td>10105</td>\n",
       "      <td>12.2</td>\n",
       "      <td>63</td>\n",
       "      <td>967.7</td>\n",
       "    </tr>\n",
       "    <tr>\n",
       "      <th>2022-04-30 22:00:00</th>\n",
       "      <td>10105</td>\n",
       "      <td>11.1</td>\n",
       "      <td>64</td>\n",
       "      <td>968.1</td>\n",
       "    </tr>\n",
       "    <tr>\n",
       "      <th>2022-04-30 23:00:00</th>\n",
       "      <td>10105</td>\n",
       "      <td>10.2</td>\n",
       "      <td>69</td>\n",
       "      <td>968.2</td>\n",
       "    </tr>\n",
       "    <tr>\n",
       "      <th>2022-05-01 00:00:00</th>\n",
       "      <td>10105</td>\n",
       "      <td>9.2</td>\n",
       "      <td>71</td>\n",
       "      <td>968.6</td>\n",
       "    </tr>\n",
       "  </tbody>\n",
       "</table>\n",
       "<p>9479 rows × 4 columns</p>\n",
       "</div>"
      ],
      "text/plain": [
       "                    ESTACION TEMPERATURA (C) HUMEDAD RELATIVA (%)  \\\n",
       "FECHA                                                               \n",
       "2021-04-01 00:00:00    10105            16.7                   76   \n",
       "2021-04-01 01:00:00    10105            16.4                   77   \n",
       "2021-04-01 02:00:00    10105            16.5                   76   \n",
       "2021-04-01 03:00:00    10105            15.8                   78   \n",
       "2021-04-01 04:00:00    10105              16                   79   \n",
       "...                      ...             ...                  ...   \n",
       "2022-04-30 20:00:00    10105            13.6                   55   \n",
       "2022-04-30 21:00:00    10105            12.2                   63   \n",
       "2022-04-30 22:00:00    10105            11.1                   64   \n",
       "2022-04-30 23:00:00    10105            10.2                   69   \n",
       "2022-05-01 00:00:00    10105             9.2                   71   \n",
       "\n",
       "                    PRESION ESTACION (hPa)  \n",
       "FECHA                                       \n",
       "2021-04-01 00:00:00                    967  \n",
       "2021-04-01 01:00:00                  966.6  \n",
       "2021-04-01 02:00:00                  966.2  \n",
       "2021-04-01 03:00:00                  966.4  \n",
       "2021-04-01 04:00:00                  966.1  \n",
       "...                                    ...  \n",
       "2022-04-30 20:00:00                  967.2  \n",
       "2022-04-30 21:00:00                  967.7  \n",
       "2022-04-30 22:00:00                  968.1  \n",
       "2022-04-30 23:00:00                  968.2  \n",
       "2022-05-01 00:00:00                  968.6  \n",
       "\n",
       "[9479 rows x 4 columns]"
      ]
     },
     "execution_count": 9,
     "metadata": {},
     "output_type": "execute_result"
    }
   ],
   "source": [
    "data_fecha = datossmn.set_index('FECHA')\n",
    "smn_abril_21_mayo_22 =  data_fecha.loc['2021-04-01 00:00:00':'2022-05-01 00:00:00']\n",
    "\n",
    "smn_abril_21_mayo_22"
   ]
  },
  {
   "cell_type": "code",
   "execution_count": 11,
   "metadata": {},
   "outputs": [],
   "source": [
    "smn_abril_21_mayo_22.to_excel('SMN_datos_abril21_1mayo22.xlsx', index=True)"
   ]
  },
  {
   "cell_type": "code",
   "execution_count": null,
   "metadata": {},
   "outputs": [],
   "source": [
    "smn_abril_21_mayo_22.describe"
   ]
  }
 ],
 "metadata": {
  "interpreter": {
   "hash": "94cadf68cf52c515caf6c8736dff7d4992718ad31c715dbaf894b51d692c8531"
  },
  "kernelspec": {
   "display_name": "Python 3.9.13 64-bit (windows store)",
   "language": "python",
   "name": "python3"
  },
  "language_info": {
   "codemirror_mode": {
    "name": "ipython",
    "version": 3
   },
   "file_extension": ".py",
   "mimetype": "text/x-python",
   "name": "python",
   "nbconvert_exporter": "python",
   "pygments_lexer": "ipython3",
   "version": "3.9.13"
  },
  "orig_nbformat": 4
 },
 "nbformat": 4,
 "nbformat_minor": 2
}
